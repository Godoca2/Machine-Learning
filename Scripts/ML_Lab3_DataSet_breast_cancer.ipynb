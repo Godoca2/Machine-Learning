{
 "cells": [
  {
   "cell_type": "markdown",
   "metadata": {},
   "source": [
    "## Introducción\n",
    "\n",
    "### Objetivo de la Tarea\n",
    "\n",
    "El propósito de esta tarea es aplicar diversos algoritmos de **aprendizaje supervisado** en el conjunto de datos de **cáncer de mama**, utilizando herramientas de la librería **scikit-learn**. El objetivo es construir modelos predictivos que nos permitan clasificar si un tumor es maligno o benigno, basándonos en una serie de características extraídas de imágenes digitalizadas de células mamarias.\n",
    "\n",
    "A lo largo del análisis, se evaluarán los siguientes métodos supervisados:\n",
    "\n",
    "- **Naive Bayes**: Un clasificador probabilístico basado en la asunción de independencia entre características.\n",
    "- **Análisis Discriminante Lineal**: Un método de clasificación que busca maximizar la separación entre las clases mediante una combinación lineal de las características.\n",
    "- **Regresión Logística**: Un modelo lineal utilizado para predecir la probabilidad de una clase binaria.\n",
    "\n",
    "### Descripción del Conjunto de Datos\n",
    "\n",
    "El conjunto de datos utilizado es **Breast Cancer Wisconsin (Diagnostic)**, el cual se puede cargar directamente desde la librería `scikit-learn` utilizando la función `load_breast_cancer()`. Este dataset contiene **569 instancias** y **30 características** numéricas relacionadas con las propiedades físicas de las células mamarias, tales como:\n",
    "\n",
    "- Radio del núcleo de la célula.\n",
    "- Textura.\n",
    "- Perímetro.\n",
    "- Área.\n",
    "- Simetría, entre otras.\n",
    "\n",
    "Cada registro está asociado a una etiqueta de clase, indicando si el tumor es:\n",
    "- **Maligno** (etiquetado como 0)\n",
    "- **Benigno** (etiquetado como 1)\n",
    "\n",
    "Este dataset es ampliamente utilizado para evaluar algoritmos de clasificación debido a su naturaleza bien estructurada y a la importancia del problema médico que aborda.\n",
    "\n",
    "### Metodología\n",
    "\n",
    "El análisis que se llevará a cabo incluirá las siguientes etapas:\n",
    "\n",
    "1. **Exploración de Datos:** Realización de un análisis exploratorio para entender la distribución de las características y la relación con la variable objetivo (maligno o benigno).\n",
    "2. **Ingeniería de Características:** Procesamiento de los datos, incluyendo normalización de las variables numéricas y evaluación de la importancia de las características.\n",
    "3. **Aplicación de Algoritmos Supervisados:**\n",
    "   - **Naive Bayes**\n",
    "   - **Análisis Discriminante Lineal**\n",
    "   - **Regresión Logística**\n",
    "4. **Evaluación de Modelos:** Se utilizarán métricas de rendimiento como **precisión**, **recall**, **matriz de confusión** y **ROC-AUC** para evaluar el desempeño de cada algoritmo.\n",
    "5. **Conclusiones:** Se resumirán los resultados clave y se identificarán las características más importantes en la clasificación de los tumores.\n"
   ]
  }
 ],
 "metadata": {
  "language_info": {
   "name": "python"
  }
 },
 "nbformat": 4,
 "nbformat_minor": 2
}
