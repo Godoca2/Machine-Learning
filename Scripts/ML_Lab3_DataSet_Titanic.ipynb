{
 "cells": [
  {
   "cell_type": "markdown",
   "metadata": {},
   "source": [
    "## Introducción\n",
    "\n",
    "### Objetivo de la Tarea\n",
    "\n",
    "El objetivo de esta tarea es aplicar diferentes algoritmos de **aprendizaje supervisado** en el conjunto de datos **Titanic**, utilizando herramientas de la librería **scikit-learn**. El propósito principal es construir modelos predictivos para determinar si un pasajero del Titanic sobrevivió o no, basándose en las características disponibles del pasajero, como su clase de boleto, género, edad, entre otros factores.\n",
    "\n",
    "En este análisis, se evaluarán los siguientes métodos supervisados:\n",
    "\n",
    "- **Naive Bayes**: Un clasificador probabilístico que asume la independencia entre características.\n",
    "- **Análisis Discriminante Lineal**: Un método de clasificación que maximiza la separación entre las clases mediante una combinación lineal de características.\n",
    "- **Regresión Logística**: Un modelo lineal utilizado para predecir la probabilidad de un evento binario, en este caso, la supervivencia de los pasajeros.\n",
    "\n",
    "### Descripción del Conjunto de Datos\n",
    "\n",
    "El conjunto de datos **Titanic** se puede obtener utilizando la función `fetch_openml(\"titanic\", version=1, as_frame=True, return_X_y=True)` de la librería `scikit-learn`. Este dataset incluye información sobre **1,309 pasajeros** del Titanic y sus características relevantes para el análisis, tales como:\n",
    "\n",
    "- Clase del boleto (1ra, 2da, 3ra clase)\n",
    "- Género\n",
    "- Edad\n",
    "- Número de familiares a bordo\n",
    "- Tarifa pagada\n",
    "- Punto de embarque\n",
    "\n",
    "El objetivo es predecir la variable **\"survived\"** (0 = no sobrevivió, 1 = sobrevivió).\n",
    "\n",
    "Además, se investigará si la **edad** es un factor determinante para la supervivencia y se intentará predecir el destino de dos pasajeros con información incompleta.\n",
    "\n",
    "### Metodología\n",
    "\n",
    "El análisis que se llevará a cabo incluirá las siguientes etapas:\n",
    "\n",
    "1. **Exploración de Datos:** Exploración de las características del dataset, identificación de valores faltantes y distribución de las variables.\n",
    "2. **Ingeniería de Características:** Transformaciones de los datos, incluyendo imputación de valores nulos, codificación de variables categóricas y normalización de características numéricas.\n",
    "3. **Aplicación de Algoritmos Supervisados:**\n",
    "   - **Naive Bayes**\n",
    "   - **Análisis Discriminante Lineal**\n",
    "   - **Regresión Logística**\n",
    "4. **Análisis Específico de la Edad:** Se investigará si la edad es un factor determinante en la supervivencia.\n",
    "5. **Predicción del Destino de Dos Pasajeros:** Se intentará predecir el destino de dos pasajeros con información incompleta en el dataset.\n",
    "6. **Evaluación de Modelos:** Se utilizarán métricas como **precisión**, **recall**, **matriz de confusión** y **ROC-AUC** para evaluar el rendimiento de los modelos.\n",
    "7. **Conclusiones:** Se resumirán los resultados clave del análisis, incluyendo la importancia de la edad como factor de supervivencia.\n",
    "\n"
   ]
  }
 ],
 "metadata": {
  "kernelspec": {
   "display_name": ".venv",
   "language": "python",
   "name": "python3"
  },
  "language_info": {
   "name": "python",
   "version": "3.11.4"
  }
 },
 "nbformat": 4,
 "nbformat_minor": 2
}
